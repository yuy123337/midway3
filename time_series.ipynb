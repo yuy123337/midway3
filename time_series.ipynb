{
 "cells": [
  {
   "cell_type": "code",
   "execution_count": 1,
   "id": "21589eee",
   "metadata": {},
   "outputs": [
    {
     "name": "stderr",
     "output_type": "stream",
     "text": [
      "/tmp/jobs/43375374/ipykernel_56979/227294004.py:7: DtypeWarning: Columns (1,5) have mixed types. Specify dtype option on import or set low_memory=False.\n",
      "  data = pd.read_csv(file_path)\n"
     ]
    },
    {
     "data": {
      "text/html": [
       "<div>\n",
       "<style scoped>\n",
       "    .dataframe tbody tr th:only-of-type {\n",
       "        vertical-align: middle;\n",
       "    }\n",
       "\n",
       "    .dataframe tbody tr th {\n",
       "        vertical-align: top;\n",
       "    }\n",
       "\n",
       "    .dataframe thead th {\n",
       "        text-align: right;\n",
       "    }\n",
       "</style>\n",
       "<table border=\"1\" class=\"dataframe\">\n",
       "  <thead>\n",
       "    <tr style=\"text-align: right;\">\n",
       "      <th></th>\n",
       "      <th>name</th>\n",
       "      <th>lat</th>\n",
       "      <th>lon</th>\n",
       "      <th>text</th>\n",
       "      <th>date</th>\n",
       "      <th>score</th>\n",
       "      <th>keyword</th>\n",
       "      <th>addr</th>\n",
       "      <th>language</th>\n",
       "    </tr>\n",
       "  </thead>\n",
       "  <tbody>\n",
       "    <tr>\n",
       "      <th>0</th>\n",
       "      <td>Koi Sushi</td>\n",
       "      <td>44.604826</td>\n",
       "      <td>-79.372455</td>\n",
       "      <td>I've been here several times and am never disa...</td>\n",
       "      <td>2021-01-29 23:56:06</td>\n",
       "      <td>5</td>\n",
       "      <td>japanese restaurant</td>\n",
       "      <td>660 Atherley Rd #1,2, Orillia, ON L3V 1P2, Canada</td>\n",
       "      <td>en</td>\n",
       "    </tr>\n",
       "    <tr>\n",
       "      <th>1</th>\n",
       "      <td>Koi Sushi</td>\n",
       "      <td>44.604826</td>\n",
       "      <td>-79.372455</td>\n",
       "      <td>Koi sushi has been great every time I've gone....</td>\n",
       "      <td>2024-05-27 00:55:48</td>\n",
       "      <td>5</td>\n",
       "      <td>japanese restaurant</td>\n",
       "      <td>660 Atherley Rd #1,2, Orillia, ON L3V 1P2, Canada</td>\n",
       "      <td>en</td>\n",
       "    </tr>\n",
       "    <tr>\n",
       "      <th>2</th>\n",
       "      <td>Hanabi Japanese Restaurant</td>\n",
       "      <td>44.583675</td>\n",
       "      <td>-79.865521</td>\n",
       "      <td>Very cute little spot, extremely friendly serv...</td>\n",
       "      <td>2024-09-13 11:21:05</td>\n",
       "      <td>5</td>\n",
       "      <td>japanese restaurant</td>\n",
       "      <td>5 Queen St E, Elmvale, ON L0L 1P0, Canada</td>\n",
       "      <td>en</td>\n",
       "    </tr>\n",
       "    <tr>\n",
       "      <th>3</th>\n",
       "      <td>Sushi Zone &amp; Ramen Stop</td>\n",
       "      <td>45.427738</td>\n",
       "      <td>-75.692325</td>\n",
       "      <td>又实惠又好吃这个价格能吃到金枪鱼盖饭真的是十分感动而且配菜还那么新鲜！</td>\n",
       "      <td>2024-09-29 13:34:47</td>\n",
       "      <td>5</td>\n",
       "      <td>japanese restaurant</td>\n",
       "      <td>55 Byward Market Square, Ottawa, ON K1N 9J7, C...</td>\n",
       "      <td>zh-cn</td>\n",
       "    </tr>\n",
       "    <tr>\n",
       "      <th>4</th>\n",
       "      <td>2go sushi</td>\n",
       "      <td>44.606938</td>\n",
       "      <td>-80.592314</td>\n",
       "      <td>Cozy restaurant with nice owners and delicious...</td>\n",
       "      <td>2024-09-03 12:24:22</td>\n",
       "      <td>5</td>\n",
       "      <td>japanese restaurant</td>\n",
       "      <td>16 Trowbridge St W #1, Meaford, ON N4L 1N2, Ca...</td>\n",
       "      <td>en</td>\n",
       "    </tr>\n",
       "  </tbody>\n",
       "</table>\n",
       "</div>"
      ],
      "text/plain": [
       "                         name        lat        lon  \\\n",
       "0                   Koi Sushi  44.604826 -79.372455   \n",
       "1                   Koi Sushi  44.604826 -79.372455   \n",
       "2  Hanabi Japanese Restaurant  44.583675 -79.865521   \n",
       "3     Sushi Zone & Ramen Stop  45.427738 -75.692325   \n",
       "4                   2go sushi  44.606938 -80.592314   \n",
       "\n",
       "                                                text                 date  \\\n",
       "0  I've been here several times and am never disa...  2021-01-29 23:56:06   \n",
       "1  Koi sushi has been great every time I've gone....  2024-05-27 00:55:48   \n",
       "2  Very cute little spot, extremely friendly serv...  2024-09-13 11:21:05   \n",
       "3                又实惠又好吃这个价格能吃到金枪鱼盖饭真的是十分感动而且配菜还那么新鲜！  2024-09-29 13:34:47   \n",
       "4  Cozy restaurant with nice owners and delicious...  2024-09-03 12:24:22   \n",
       "\n",
       "  score              keyword  \\\n",
       "0     5  japanese restaurant   \n",
       "1     5  japanese restaurant   \n",
       "2     5  japanese restaurant   \n",
       "3     5  japanese restaurant   \n",
       "4     5  japanese restaurant   \n",
       "\n",
       "                                                addr language  \n",
       "0  660 Atherley Rd #1,2, Orillia, ON L3V 1P2, Canada       en  \n",
       "1  660 Atherley Rd #1,2, Orillia, ON L3V 1P2, Canada       en  \n",
       "2          5 Queen St E, Elmvale, ON L0L 1P0, Canada       en  \n",
       "3  55 Byward Market Square, Ottawa, ON K1N 9J7, C...    zh-cn  \n",
       "4  16 Trowbridge St W #1, Meaford, ON N4L 1N2, Ca...       en  "
      ]
     },
     "execution_count": 1,
     "metadata": {},
     "output_type": "execute_result"
    }
   ],
   "source": [
    "import pandas as pd\n",
    "\n",
    "# Path to the file\n",
    "file_path = '/home/ymusic7/metro_restaurants/combined.csv'\n",
    "\n",
    "# Load the dataset\n",
    "data = pd.read_csv(file_path)\n",
    "\n",
    "# Display the first few rows of the dataset\n",
    "data.head()\n"
   ]
  },
  {
   "cell_type": "code",
   "execution_count": 3,
   "id": "77b7ecbb",
   "metadata": {},
   "outputs": [
    {
     "name": "stdout",
     "output_type": "stream",
     "text": [
      "Number of Chinese reviews: 292952\n",
      "Number of Japanese reviews: 226949\n"
     ]
    }
   ],
   "source": [
    "# Drop rows where 'keyword' is NaN\n",
    "data = data.dropna(subset=['keyword'])\n",
    "\n",
    "# Separate reviews by keyword\n",
    "data_chinese = data[data['keyword'].str.contains('chinese', case=False)]\n",
    "data_japanese = data[data['keyword'].str.contains('japanese', case=False)]\n",
    "\n",
    "# Display the counts\n",
    "print(\"Number of Chinese reviews:\", len(data_chinese))\n",
    "print(\"Number of Japanese reviews:\", len(data_japanese))\n",
    "\n"
   ]
  },
  {
   "cell_type": "code",
   "execution_count": null,
   "id": "8c29212b",
   "metadata": {},
   "outputs": [],
   "source": [
    "# Fill NaN values in 'keyword' with an empty string\n",
    "data['keyword'] = data['keyword'].fillna('')\n",
    "\n",
    "# Separate reviews by keyword\n",
    "data_chinese = data[data['keyword'].str.contains('chinese', case=False)]\n",
    "data_japanese = data[data['keyword'].str.contains('japanese', case=False)]\n",
    "\n",
    "# Display the counts\n",
    "print(\"Number of Chinese reviews:\", len(data_chinese))\n",
    "print(\"Number of Japanese reviews:\", len(data_japanese))\n"
   ]
  },
  {
   "cell_type": "code",
   "execution_count": 6,
   "id": "0629b349",
   "metadata": {},
   "outputs": [],
   "source": [
    "\n",
    "data_chinese.loc[:, 'review_date'] = pd.to_datetime(data_chinese['date'])\n",
    "data_chinese.loc[:, 'review_year'] = data_chinese['review_date'].dt.year\n",
    "data_chinese.loc[:, 'review_month'] = data_chinese['review_date'].dt.month\n",
    "data_chinese.loc[:, 'rating'] = data_chinese['score']\n",
    "\n",
    "data_japanese.loc[:, 'review_date'] = pd.to_datetime(data_japanese['date'])\n",
    "data_japanese.loc[:, 'review_year'] = data_japanese['review_date'].dt.year\n",
    "data_japanese.loc[:, 'review_month'] = data_japanese['review_date'].dt.month\n",
    "data_japanese.loc[:, 'rating'] = data_japanese['score']\n",
    "\n"
   ]
  },
  {
   "cell_type": "code",
   "execution_count": 8,
   "id": "7c096aea",
   "metadata": {},
   "outputs": [],
   "source": [
    "data_chinese = data[data['keyword'].str.contains('chinese', case=False, na=False)]\n",
    "data_japanese = data[data['keyword'].str.contains('japanese', case=False, na=False)]\n"
   ]
  },
  {
   "cell_type": "code",
   "execution_count": null,
   "id": "a3250872",
   "metadata": {},
   "outputs": [],
   "source": []
  }
 ],
 "metadata": {
  "kernelspec": {
   "display_name": "Python 3 (ipykernel)",
   "language": "python",
   "name": "python3"
  },
  "language_info": {
   "codemirror_mode": {
    "name": "ipython",
    "version": 3
   },
   "file_extension": ".py",
   "mimetype": "text/x-python",
   "name": "python",
   "nbconvert_exporter": "python",
   "pygments_lexer": "ipython3",
   "version": "3.8.20"
  }
 },
 "nbformat": 4,
 "nbformat_minor": 5
}
